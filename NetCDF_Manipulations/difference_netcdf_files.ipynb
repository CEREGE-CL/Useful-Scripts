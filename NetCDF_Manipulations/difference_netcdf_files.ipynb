{
 "cells": [
  {
   "cell_type": "markdown",
   "metadata": {},
   "source": [
    "# Difference between two netcdf files\n",
    "\n",
    "This is a short notebook that will allow you to compare the values between two netcdf files and will produce a netcdf file with the differences as well as a small figure.\n",
    "\n",
    "## Instructions\n",
    "1. Upload the 2 data files to the current directory\n",
    "1. Change global variables to desired values\n",
    "1. Run all cells"
   ]
  },
  {
   "cell_type": "markdown",
   "metadata": {},
   "source": [
    "## Set variables"
   ]
  },
  {
   "cell_type": "code",
   "execution_count": null,
   "metadata": {},
   "outputs": [],
   "source": [
    "# Input files\n",
    "FILENAME1 = os.path.join(\".\", \"FILENAME_HERE.nc\")\n",
    "FILENAME2 = os.path.join(\".\", \"FILENAME_HERE.nc\")\n",
    "\n",
    "# Outputfile\n",
    "\n",
    "OUTPUT_FILE = os.path.join(\".\", \"differences.nc\")"
   ]
  },
  {
   "cell_type": "markdown",
   "metadata": {},
   "source": [
    "## Necessary imports"
   ]
  },
  {
   "cell_type": "code",
   "execution_count": null,
   "metadata": {},
   "outputs": [],
   "source": [
    "# Os manipulations mainly path\n",
    "import os\n",
    "# NetCDF loading and manip\n",
    "import xarray as xr\n",
    "\n",
    "# Adding holoviz support to xarray\n",
    "import hvplot.xarray\n",
    "\n",
    "# Basic matplotlib graphing\n",
    "import matplotlib.pyplot as plt\n",
    "import matplotlib.ticker as mticker\n",
    "import cartopy.crs as ccrs\n",
    "from cartopy.mpl.gridliner import LONGITUDE_FORMATTER, LATITUDE_FORMATTER\n",
    "from matplotlib.colors import LinearSegmentedColormap"
   ]
  },
  {
   "cell_type": "markdown",
   "metadata": {},
   "source": [
    "## Some custom colormaps"
   ]
  },
  {
   "cell_type": "code",
   "execution_count": null,
   "metadata": {},
   "outputs": [],
   "source": [
    "fzcmap = LinearSegmentedColormap.from_list(\"my_colormap\", ((0,0.2,0.4),(0,0.2,0.4),'slateblue','deepskyblue','aqua','antiquewhite','yellow','darkorange','red',(0.54,0,0),(0.54,0,0)), N=256, gamma=1.0)\n",
    "blackcmap = LinearSegmentedColormap.from_list(\"my_colormap\", ('k', 'k'), N=256, gamma=1.0)\n",
    "landseacmap = LinearSegmentedColormap.from_list(\"my_colormap\", ((0.22,0.22,0.56),(0.38,0.49,0.99),(0.51,0.99,1),(0.01,0.51,0),(0.7,0.7,0)), N=256, gamma=1.0)\n",
    "bathycmap = LinearSegmentedColormap.from_list(\"my_colormap\", ((0.1601562, 0.28125, 0.703125),(0.28125, 0.484375, 0.859375),(0.8671875, 0.9101562, 0.9804688)), N=256, gamma=1.0)"
   ]
  },
  {
   "cell_type": "markdown",
   "metadata": {},
   "source": [
    "## Load the data"
   ]
  },
  {
   "cell_type": "code",
   "execution_count": null,
   "metadata": {},
   "outputs": [],
   "source": [
    "ds1 = xr.open_dataset(FILENAME1)\n",
    "\n",
    "ds2 = xr.open_dataset(FILENAME2)"
   ]
  },
  {
   "cell_type": "markdown",
   "metadata": {},
   "source": [
    "## Quick Data overview"
   ]
  },
  {
   "cell_type": "code",
   "execution_count": null,
   "metadata": {},
   "outputs": [],
   "source": [
    "ds1"
   ]
  },
  {
   "cell_type": "code",
   "execution_count": null,
   "metadata": {},
   "outputs": [],
   "source": [
    "ds2"
   ]
  },
  {
   "cell_type": "markdown",
   "metadata": {},
   "source": [
    "## Simple plotting"
   ]
  },
  {
   "cell_type": "code",
   "execution_count": null,
   "metadata": {},
   "outputs": [],
   "source": [
    "ds1.TPP_ALLK.hvplot.image(cmap=fzcmap)"
   ]
  },
  {
   "cell_type": "code",
   "execution_count": null,
   "metadata": {},
   "outputs": [],
   "source": [
    "ds2.TPP_ALLK.hvplot.image()"
   ]
  },
  {
   "cell_type": "markdown",
   "metadata": {},
   "source": [
    "## Calculate the difference"
   ]
  },
  {
   "cell_type": "code",
   "execution_count": null,
   "metadata": {},
   "outputs": [],
   "source": [
    "# The TIME_COUNTER are different for each dataset but as we only have one array we will drop the values\n",
    "difference = (ds1.drop('TIME_COUNTER').TPP_ALLK - ds2.drop('TIME_COUNTER').TPP_ALLK)\n",
    "difference.hvplot()"
   ]
  },
  {
   "cell_type": "markdown",
   "metadata": {},
   "source": [
    "## Write the data to disk"
   ]
  },
  {
   "cell_type": "code",
   "execution_count": null,
   "metadata": {},
   "outputs": [],
   "source": [
    "difference.to_netcdf(OUTPUT_FILE)"
   ]
  },
  {
   "cell_type": "markdown",
   "metadata": {},
   "source": [
    "## Make a standard plot"
   ]
  },
  {
   "cell_type": "code",
   "execution_count": null,
   "metadata": {},
   "outputs": [],
   "source": [
    "plt.figure(figsize=(6, 4.5))\n",
    "ax = plt.axes(projection=ccrs.Robinson())\n",
    "# ax.gridlines()\n",
    "cf = difference.plot(transform=ccrs.PlateCarree(), ax=ax, cmap=fzcmap, add_colorbar=False);\n",
    "# ax.set(aspect=2)\n",
    "# ax.set_aspect('auto')\n",
    "ax.tick_params(labelsize=15)\n",
    "# ax.set_title('Plot Anomaly', weight='normal', fontsize=15)\n",
    "# plt.title('Plot Anomaly', weight='normal', fontsize=15);\n",
    "\n",
    "gl = ax.gridlines(crs=ccrs.PlateCarree(), draw_labels=False,\n",
    "              linewidth=.5, color='k', alpha=1., linestyle='-', zorder=999)\n",
    "gl.xlabels_top = False\n",
    "gl.ylabels_left = False\n",
    "gl.xlines = True\n",
    "gl.xlocator = mticker.FixedLocator([-180, -120, -60, 0, 60, 120, 180])\n",
    "gl.xformatter = LONGITUDE_FORMATTER\n",
    "gl.ylocator = mticker.FixedLocator([-90, -60, -30, 0, 30, 60, 90])\n",
    "gl.yformatter = LATITUDE_FORMATTER\n",
    "gl.xlabel_style = {'size': 15, 'color': 'gray'}\n",
    "gl.xlabel_style = {'color': 'red', 'weight': 'bold'}\n",
    "cb = plt.colorbar(cf, orientation='horizontal',extend='both')\n",
    "cf.cmap.set_under('darkblue')\n",
    "cf.cmap.set_over('sienna')\n",
    "cb.ax.tick_params(labelsize=15)\n",
    "cb.ax.set_title('Prod Anomaly', weight='normal', fontsize=15)\n",
    "ax.outline_patch.set_linewidth(1.6)\n",
    "ax.outline_patch.set_zorder(3000)\n",
    "# plt.tight_layout()\n",
    "# plt.savefig(fname,format='png', dpi=450)\n",
    "# ax.outline_patch.set_linewidth(1.6)\n",
    "# ax.outline_patch.set_zorder(3000)\n",
    "\n",
    "\n",
    "\n",
    "plt.savefig('anomaly.tif', dpi=450)"
   ]
  }
 ],
 "metadata": {
  "kernelspec": {
   "display_name": "Python (pangeo)",
   "language": "python",
   "name": "jupyter"
  },
  "language_info": {
   "codemirror_mode": {
    "name": "ipython",
    "version": 3
   },
   "file_extension": ".py",
   "mimetype": "text/x-python",
   "name": "python",
   "nbconvert_exporter": "python",
   "pygments_lexer": "ipython3",
   "version": "3.8.5"
  }
 },
 "nbformat": 4,
 "nbformat_minor": 4
}
