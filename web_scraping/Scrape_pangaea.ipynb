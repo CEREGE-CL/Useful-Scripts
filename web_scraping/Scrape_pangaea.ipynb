{
 "cells": [
  {
   "cell_type": "code",
   "execution_count": 3,
   "metadata": {},
   "outputs": [],
   "source": [
    "from requests_html import AsyncHTMLSession\n",
    "from bs4 import BeautifulSoup"
   ]
  },
  {
   "cell_type": "code",
   "execution_count": 4,
   "metadata": {},
   "outputs": [
    {
     "name": "stdout",
     "output_type": "stream",
     "text": [
      "0\n",
      "10\n",
      "20\n"
     ]
    }
   ],
   "source": [
    "links = []\n",
    "URL = 'https://www.pangaea.de/?q=Mass+Accumulation+Rate%2FFlux&offset={}'\n",
    "finished = False\n",
    "offset=0\n",
    "while not finished:\n",
    "    print(offset)\n",
    "    asession = AsyncHTMLSession()\n",
    "    r = await asession.get(URL.format(offset))\n",
    "    await r.html.arender()\n",
    "    resp=r.html.raw_html\n",
    "    soup = BeautifulSoup(resp, 'html.parser')\n",
    "    dataset_links = soup.find_all('a', class_='dataset-link')\n",
    "    if not len(dataset_links):\n",
    "        finished = True\n",
    "    for anchor in dataset_links:\n",
    "        link = anchor.get('href')\n",
    "        link = \"/\".join(link.split('/')[-2:])\n",
    "        links.append(link)\n",
    "    offset += 10"
   ]
  },
  {
   "cell_type": "code",
   "execution_count": null,
   "metadata": {},
   "outputs": [],
   "source": []
  }
 ],
 "metadata": {
  "kernelspec": {
   "display_name": "Python (pangeo)",
   "language": "python",
   "name": "python-pangeo"
  },
  "language_info": {
   "codemirror_mode": {
    "name": "ipython",
    "version": 3
   },
   "file_extension": ".py",
   "mimetype": "text/x-python",
   "name": "python",
   "nbconvert_exporter": "python",
   "pygments_lexer": "ipython3",
   "version": "3.7.9"
  }
 },
 "nbformat": 4,
 "nbformat_minor": 4
}
