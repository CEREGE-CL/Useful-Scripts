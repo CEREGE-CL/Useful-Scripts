{
 "cells": [
  {
   "cell_type": "markdown",
   "metadata": {},
   "source": [
    "# Notebook for Calculating \n",
    "\n",
    "Basic diagnostic on precipitation - enable comparison between two simulations\n",
    "\n",
    "- Plot monthly mean precipitation and precipitation difference between simulation 1 & 2\n",
    "- Compute seasonal cycle of precipitation at one location\n",
    "- Compute seasonal cycle of precipitation over selected area\n",
    "\n",
    "# Running the notebook\n",
    "Execute the cells 1 by 1 by taping `ctrl + enter` or `shift + enter`\n",
    "\n",
    "__Make sure to upload 2 file before continuing the rest of the notebook__\n",
    "\n",
    "If you want to change the longitude and latitude bounds look in the data extraction section.\n",
    "\n",
    "# Imports"
   ]
  },
  {
   "cell_type": "code",
   "execution_count": null,
   "metadata": {},
   "outputs": [],
   "source": [
    "# Download new color palette\n",
    "#Crameri : \n",
    "#palettable.scientific.sequential / palettable.scientific.diverging\n",
    "#from palettable.scientific.sequential import Oslo_10\n",
    "#cmap=Oslo_10.mpl_colormap\n",
    "#https://jiffyclub.github.io/palettable/#documentation\n",
    "!pip install palettable\n",
    "from palettable.scientific.sequential import Davos_10_r, Oleron_15\n",
    "\n",
    "\n",
    "from palettable.scientific.diverging import Vik_10\n"
   ]
  },
  {
   "cell_type": "code",
   "execution_count": null,
   "metadata": {},
   "outputs": [],
   "source": [
    "# File upload widegt\n",
    "from ipywidgets import FileUpload\n",
    "from io import BytesIO\n",
    "\n",
    "# Data manipulation and storage\n",
    "import xarray as xr\n",
    "import numpy as np\n",
    "\n",
    "# Holoviews graphing\n",
    "import hvplot.xarray\n",
    "import holoviews as hv\n",
    "from holoviews import opts"
   ]
  },
  {
   "cell_type": "code",
   "execution_count": null,
   "metadata": {},
   "outputs": [],
   "source": [
    "import geoviews as gv\n",
    "import geoviews.feature as gf\n",
    "from cartopy import crs\n",
    "import cartopy.feature as cf\n",
    "\n",
    "gv.extension('bokeh', 'matplotlib')"
   ]
  },
  {
   "cell_type": "markdown",
   "metadata": {},
   "source": [
    "# Data Upload"
   ]
  },
  {
   "cell_type": "code",
   "execution_count": null,
   "metadata": {},
   "outputs": [],
   "source": [
    "# Create file upload\n",
    "# To load several files press shift with selecting - \n",
    "#all the files have to be selected at the same time.\n",
    "\n",
    "file_upload = FileUpload(multiple=True)\n",
    "file_upload"
   ]
  },
  {
   "cell_type": "code",
   "execution_count": null,
   "metadata": {},
   "outputs": [],
   "source": [
    "bytes_data = BytesIO(file_upload.data[0])\n",
    "ds = xr.open_dataset(bytes_data)\n",
    "\n",
    "bytes_data = BytesIO(file_upload.data[1])\n",
    "ds1 = xr.open_dataset(bytes_data)"
   ]
  },
  {
   "cell_type": "code",
   "execution_count": null,
   "metadata": {},
   "outputs": [],
   "source": [
    "#Scale precipitation to convert in mm/day\n",
    "ds['precip'] = ds['precip']*86400\n",
    "ds1['precip'] = ds1['precip']*86400"
   ]
  },
  {
   "cell_type": "code",
   "execution_count": null,
   "metadata": {},
   "outputs": [],
   "source": [
    "ds[['precip', 'phis']].precip.hvplot(title=\"Dataset 1\",\n",
    "                                     width=300,\n",
    "                                     height=300) + ds1[['precip', 'phis']].precip.hvplot(title=\"Dataset 2\",\n",
    "                                                                                                   width=300,\n",
    "                                                                                                   height=300)"
   ]
  },
  {
   "cell_type": "code",
   "execution_count": null,
   "metadata": {},
   "outputs": [],
   "source": [
    "# Compute elevation from phis parameter\n",
    "ds['alti'] = ds['phis']/9.81\n",
    "ds1['alti'] = ds1['phis']/9.81\n",
    "ds.alti.hvplot()\n"
   ]
  },
  {
   "cell_type": "markdown",
   "metadata": {},
   "source": [
    "# Plot Maps"
   ]
  },
  {
   "cell_type": "markdown",
   "metadata": {},
   "source": [
    "Plot monthly mean precipitation for simulation 1 & 2"
   ]
  },
  {
   "cell_type": "code",
   "execution_count": null,
   "metadata": {},
   "outputs": [],
   "source": [
    "# Plot monthly precipitations\n",
    "topo = gv.Dataset(ds).to(gv.Image, ['lon','lat'],'alti')\n",
    "\n",
    "opts.defaults(opts.Image(cmap=Davos_10_r.mpl_colormap,color_levels=10,clim=(0,20),frame_width=400,frame_height=200))\n",
    "\n",
    "ensemble = gv.Dataset(ds).to(gv.Image, ['lon', 'lat'], 'precip')\n",
    "ensemble1 = gv.Dataset(ds1).to(gv.Image, ['lon', 'lat'], 'precip')\n",
    "(ensemble.opts(\n",
    "    title=\"Precipitation (mm/day)\",projection=crs.Robinson())* \n",
    " gv.operation.contours(topo,levels=[10]).opts(\n",
    "     show_legend=False,line_width=1.5) + \n",
    " ensemble1.opts(\n",
    "     colorbar=True,title=\"Precipitation (mm/day)\",projection=crs.Robinson())*\n",
    " gv.operation.contours(topo,levels=[10]).opts(\n",
    "     show_legend=False),line_width=1.5)\n"
   ]
  },
  {
   "cell_type": "markdown",
   "metadata": {},
   "source": [
    "Plot monthly mean precipitation anomaly between simulation 1 & 2"
   ]
  },
  {
   "cell_type": "code",
   "execution_count": null,
   "metadata": {},
   "outputs": [],
   "source": [
    "# Compute difference between two simulations & zoom over specific region\n",
    "difference = (ds.precip - ds1.precip)"
   ]
  },
  {
   "cell_type": "code",
   "execution_count": null,
   "metadata": {},
   "outputs": [],
   "source": [
    "# Plot differences\n",
    "(gv.Dataset(difference).to(gv.Image, ['lon', 'lat'], 'precip').opts(\n",
    "    width=600,height=300,\n",
    "    cmap=Vik_10.mpl_colormap,color_levels=20,clim=(-15,15),\n",
    "    colorbar=True,\n",
    "    xlabel='Longitude',ylabel='Latitude',\n",
    "    title='Precipitation anomaly (mm/day)',\n",
    "    projection=crs.Robinson())*\n",
    " gv.operation.contours(topo,levels=[10]).opts(show_legend=False,cmap='gray_r',line_width=1.5))"
   ]
  },
  {
   "cell_type": "markdown",
   "metadata": {},
   "source": [
    "# Plot seasonal cycles at one point"
   ]
  },
  {
   "cell_type": "markdown",
   "metadata": {},
   "source": [
    "Here we first zoom on extended area just for esthetic issues"
   ]
  },
  {
   "cell_type": "code",
   "execution_count": null,
   "metadata": {},
   "outputs": [],
   "source": [
    "# Select the desired zone\n",
    "# /!\\ Slice works based on the ordering in coordinates, here lat goes from +90 -> -90 and lon from -180 -> +180\n",
    "ds_zone = ds.sel(lat=slice(40, -40), lon=slice(-180, 180))\n",
    "ds1_zone = ds1.sel(lat=slice(40, -40), lon=slice(-180, 180))\n",
    "topo_zoom = gv.Dataset(ds_zone).to(gv.Image, ['lon','lat'],'alti')\n",
    "\n",
    "zoom = gv.Dataset(ds_zone).to(gv.Image, ['lon', 'lat'], 'precip')\n",
    "zoom1 = gv.Dataset(ds1_zone).to(gv.Image, ['lon', 'lat'], 'precip')\n"
   ]
  },
  {
   "cell_type": "markdown",
   "metadata": {},
   "source": [
    "Then we compute cycle at one location and plot"
   ]
  },
  {
   "cell_type": "code",
   "execution_count": null,
   "metadata": {},
   "outputs": [],
   "source": [
    "# Select lon & lat for a poit where to compute seasonal cycle.\n",
    "ilat=-5\n",
    "ilon=-30\n",
    "\n",
    "precip_curve = hv.Curve(zoom.select(lon=ilon,lat=ilat), kdims=['time_counter'])\n",
    "\n",
    "# Plot \n",
    "(zoom * gv.operation.contours(topo_zoom,levels=[10])  * gv.Points([(ilon,ilat)]) + precip_curve).opts(\n",
    "    opts.Image(title=\"Precipitation (mm/day)\"),\n",
    "    opts.Points(color='k',size=5),\n",
    "    opts.Contours(show_legend=False,line_width=1.5,cmap='gray_r',color_levels=0),\n",
    "    opts.Curve(frame_width=400,frame_height=200))"
   ]
  },
  {
   "cell_type": "markdown",
   "metadata": {},
   "source": [
    "# Plot seasonal cycle over specific area"
   ]
  },
  {
   "cell_type": "code",
   "execution_count": null,
   "metadata": {},
   "outputs": [],
   "source": [
    "ds_precip = ds[['precip', 'alti']]\n",
    "ds1_precip = ds1[['precip', 'alti']]\n"
   ]
  },
  {
   "cell_type": "code",
   "execution_count": null,
   "metadata": {},
   "outputs": [],
   "source": [
    "# Select the desired zone\n",
    "ulat = 10\n",
    "ulon = -10\n",
    "blat = -1\n",
    "blon = -20\n",
    "\n",
    "# /!\\ Slice works based on the ordering in coordinates, here lat goes from +90 -> -90 and lon from -180 -> +180\n",
    "ds_precip_zone = ds_precip.sel(lat=slice(ulat, blat), lon=slice(blon, ulon))\n",
    "ds1_precip_zone = ds1_precip.sel(lat=slice(0, -20), lon=slice(-65, 0))"
   ]
  },
  {
   "cell_type": "code",
   "execution_count": null,
   "metadata": {},
   "outputs": [],
   "source": [
    "# Plot precip over selected area\n",
    "(zoom * gv.operation.contours(topo_zoom,levels=[10]) * gv.Rectangles([(blon, blat,ulon,ulat)])).opts(\n",
    "    opts.Image(title=\"Precipitation (mm/day)\"),\n",
    "    opts.Contours(show_legend=False,line_width=1.5,cmap='gray_r',color_levels=0),\n",
    "    opts.Rectangles(color=None,line_width=3))\n",
    "\n"
   ]
  },
  {
   "cell_type": "code",
   "execution_count": null,
   "metadata": {},
   "outputs": [],
   "source": [
    " ds_precip_zone.precip.hvplot.image(label='precip').opts(cmap=Davos_10_r.mpl_colormap,color_levels=10,clim=(0,20)) "
   ]
  },
  {
   "cell_type": "code",
   "execution_count": null,
   "metadata": {},
   "outputs": [],
   "source": [
    "#Plot elevation\n",
    "#ds_precip_zone.alti.hvplot.image(label='alti').opts(cmap=Oleron_15.mpl_colormap,color_levels=10,clim=(0,1000))"
   ]
  },
  {
   "cell_type": "code",
   "execution_count": null,
   "metadata": {},
   "outputs": [],
   "source": [
    "# Extract values above a threshold\n",
    "threshold = 1\n",
    "upper = ds_precip_zone.where(ds_precip_zone.alti >= threshold)\n",
    "upper1 = ds1_precip_zone.where(ds1_precip_zone.alti >= threshold)\n",
    "# Extract values below threshold but above sea level\n",
    "#lower = ds_precip_zone.where((ds_precip_zone.alti > 0) & (ds_precip_zone.alti < threshold))"
   ]
  },
  {
   "cell_type": "code",
   "execution_count": null,
   "metadata": {},
   "outputs": [],
   "source": [
    "#Plot precip with threshold for elevation\n",
    "#upper.hvplot.image().opts(cmap=Davos_10_r.mpl_colormap,color_levels=10,clim=(0,20))"
   ]
  },
  {
   "cell_type": "markdown",
   "metadata": {},
   "source": [
    "# Calculate the mean value for each time step"
   ]
  },
  {
   "cell_type": "code",
   "execution_count": null,
   "metadata": {},
   "outputs": [],
   "source": [
    "upper.precip.mean(dim=['lat', 'lon']).plot.line() + upper1.precip.mean(dim=['lat', 'lon']).plot.line()"
   ]
  },
  {
   "cell_type": "code",
   "execution_count": null,
   "metadata": {},
   "outputs": [],
   "source": [
    "#lower.hvplot.image()"
   ]
  },
  {
   "cell_type": "code",
   "execution_count": null,
   "metadata": {},
   "outputs": [],
   "source": [
    "#lower.precip.mean(dim=['lat', 'lon']).plot.line();"
   ]
  },
  {
   "cell_type": "code",
   "execution_count": null,
   "metadata": {},
   "outputs": [],
   "source": [
    "#lower.precip.sum(dim=['lat', 'lon']).plot() + upper.precip.sum(dim=['lat', 'lon']).plot();"
   ]
  },
  {
   "cell_type": "markdown",
   "metadata": {},
   "source": [
    "# Calculate the sum over all locations at each time step"
   ]
  },
  {
   "cell_type": "code",
   "execution_count": null,
   "metadata": {},
   "outputs": [],
   "source": [
    "upper.precip.sum(dim=['lat', 'lon']).plot.line();"
   ]
  },
  {
   "cell_type": "markdown",
   "metadata": {},
   "source": [
    "# Calculate the cumlative sum for each time step"
   ]
  },
  {
   "cell_type": "code",
   "execution_count": null,
   "metadata": {},
   "outputs": [],
   "source": [
    "upper.precip.sum(dim=['lat', 'lon']).cumsum().plot.line();"
   ]
  },
  {
   "cell_type": "code",
   "execution_count": null,
   "metadata": {},
   "outputs": [],
   "source": [
    "#lower.precip.sum(dim=['lat', 'lon']).cumsum().plot.line();"
   ]
  }
 ],
 "metadata": {
  "kernelspec": {
   "display_name": "Python 3",
   "language": "python",
   "name": "python3"
  },
  "language_info": {
   "codemirror_mode": {
    "name": "ipython",
    "version": 3
   },
   "file_extension": ".py",
   "mimetype": "text/x-python",
   "name": "python",
   "nbconvert_exporter": "python",
   "pygments_lexer": "ipython3",
   "version": "3.7.8"
  }
 },
 "nbformat": 4,
 "nbformat_minor": 4
}
