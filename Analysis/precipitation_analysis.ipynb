{
 "cells": [
  {
   "cell_type": "markdown",
   "metadata": {},
   "source": [
    "# Notebook for Calculating \n",
    "\n",
    "Basic diagnostic on precipitation - enable comparison between two simulations\n",
    "\n",
    "Compute seasonal cycle of precipitation over selected area\n",
    "\n",
    "\n",
    "# Running the notebook\n",
    "Execute the cells 1 by 1 by taping `ctrl + enter` or `shift + enter`\n",
    "\n",
    "__Make sure to upload 2 file before continuing the rest of the notebook__\n",
    "\n",
    "If you want to change the longitude and latitude bounds look in the data extraction section.\n",
    "\n",
    "# Imports"
   ]
  },
  {
   "cell_type": "code",
   "execution_count": null,
   "metadata": {},
   "outputs": [],
   "source": [
    "# File upload widegt\n",
    "from ipywidgets import FileUpload\n",
    "from io import BytesIO\n",
    "\n",
    "# Data manipulation and storage\n",
    "import xarray as xr\n",
    "import numpy as np\n",
    "\n",
    "# Holoviews graphing\n",
    "import hvplot.xarray\n",
    "import holoviews as hv"
   ]
  },
  {
   "cell_type": "code",
   "execution_count": null,
   "metadata": {},
   "outputs": [],
   "source": [
    "import geoviews as gv\n",
    "import geoviews.feature as gf\n",
    "from cartopy import crs\n",
    "import cartopy.feature as cf\n",
    "\n",
    "gv.extension('bokeh', 'matplotlib')"
   ]
  },
  {
   "cell_type": "markdown",
   "metadata": {},
   "source": [
    "# Data Upload"
   ]
  },
  {
   "cell_type": "code",
   "execution_count": null,
   "metadata": {},
   "outputs": [],
   "source": [
    "# Create file upload\n",
    "# To load several files press shift with selecting - \n",
    "#all the files have to be selected at the same time.\n",
    "\n",
    "file_upload = FileUpload(multiple=True)\n",
    "file_upload"
   ]
  },
  {
   "cell_type": "code",
   "execution_count": null,
   "metadata": {},
   "outputs": [],
   "source": [
    "bytes_data = BytesIO(file_upload.data[0])\n",
    "ds = xr.open_dataset(bytes_data)\n",
    "\n",
    "bytes_data = BytesIO(file_upload.data[1])\n",
    "ds1 = xr.open_dataset(bytes_data)"
   ]
  },
  {
   "cell_type": "code",
   "execution_count": null,
   "metadata": {},
   "outputs": [],
   "source": [
    "#Scale precipitation to convert in mm/day\n",
    "ds['precip'] = ds['precip']*86400\n",
    "ds1['precip'] = ds1['precip']*86400"
   ]
  },
  {
   "cell_type": "code",
   "execution_count": null,
   "metadata": {},
   "outputs": [],
   "source": [
    "ds[['precip', 'phis']].precip.hvplot(title=\"Dataset 1\",\n",
    "                                     width=300,\n",
    "                                     height=300) + ds1[['precip', 'phis']].precip.hvplot(title=\"Dataset 2\",\n",
    "                                                                                                   width=300,\n",
    "                                                                                                   height=300)"
   ]
  },
  {
   "cell_type": "markdown",
   "metadata": {},
   "source": [
    "# Plot Maps"
   ]
  },
  {
   "cell_type": "code",
   "execution_count": null,
   "metadata": {},
   "outputs": [],
   "source": [
    "graticules = cf.NaturalEarthFeature(\n",
    "    category='physical',\n",
    "    name='graticules_30',\n",
    "    scale='110m')\n",
    "\n",
    "ensemble = gv.Dataset(ds).to(gv.Image, ['lon', 'lat'], 'precip')\n",
    "ensemble1 = gv.Dataset(ds1).to(gv.Image, ['lon', 'lat'], 'precip')\n",
    "ensemble.opts(title=\"Precipitation\",\n",
    "              width=400,\n",
    "              height=200,\n",
    "              colorbar=True,\n",
    "              cmap='YlGnBu',\n",
    "              projection=crs.Robinson()) + ensemble1.opts(width=400,\n",
    "                                                         height=200,\n",
    "                                                         colorbar=True,\n",
    "                                                         cmap='YlGnBu',projection=crs.Robinson())\n"
   ]
  },
  {
   "cell_type": "code",
   "execution_count": null,
   "metadata": {},
   "outputs": [],
   "source": [
    "# Compute difference between two simulations\n",
    "difference = (ds.precip - ds1.precip)\n",
    "diff_zone = difference.sel(lat=slice(40, -40), lon=slice(-180, 180))"
   ]
  },
  {
   "cell_type": "code",
   "execution_count": null,
   "metadata": {},
   "outputs": [],
   "source": [
    "gv.Dataset(diff_zone).to(gv.Image, ['lon', 'lat'], 'precip').opts(width=600,height=300,colorbar=True,cmap='RdBu_r') "
   ]
  },
  {
   "cell_type": "markdown",
   "metadata": {},
   "source": [
    "# Data extraction \n",
    "\n",
    "Here we take only the variables we need from the dataset"
   ]
  },
  {
   "cell_type": "code",
   "execution_count": null,
   "metadata": {},
   "outputs": [],
   "source": [
    "ds_precip = ds[['precip', 'phis']]\n",
    "ds1_precip = ds[['precip', 'phis']]\n",
    "\n",
    "# Convert to mm/day\n",
    "ds_precip['precip'] =  ds_precip['precip'] *86400\n",
    "ds1_precip['precip'] =  ds1_precip['precip'] *86400"
   ]
  },
  {
   "cell_type": "code",
   "execution_count": null,
   "metadata": {},
   "outputs": [],
   "source": [
    "# Select the desired zone\n",
    "# /!\\ Slice works based on the ordering in coordinates, here lat goes from +90 -> -90 and lon from -180 -> +180\n",
    "ds_precip_zone = ds_precip.sel(lat=slice(35, 0), lon=slice(65, 85))\n",
    "# Calculate the altitude from the phi parameter\n",
    "ds_precip_zone['alti'] = ds_precip_zone['phis'] / 9.81"
   ]
  },
  {
   "cell_type": "markdown",
   "metadata": {
    "jupyter": {
     "source_hidden": true
    }
   },
   "source": [
    "# Analysis"
   ]
  },
  {
   "cell_type": "code",
   "execution_count": null,
   "metadata": {},
   "outputs": [],
   "source": [
    "ds_precip_zone.precip.hvplot.image(label='precip')"
   ]
  },
  {
   "cell_type": "code",
   "execution_count": null,
   "metadata": {},
   "outputs": [],
   "source": [
    "ds_precip_zone.alti.hvplot.image(label='alti')"
   ]
  },
  {
   "cell_type": "code",
   "execution_count": null,
   "metadata": {},
   "outputs": [],
   "source": [
    "# Extract values above a threshold\n",
    "threshold = 1000\n",
    "upper = ds_precip_zone.where(ds_precip_zone.alti >= threshold)\n",
    "\n",
    "# Extract values below threshold but above sea level\n",
    "lower = ds_precip_zone.where((ds_precip_zone.alti > 0) & (ds_precip_zone.alti < threshold))"
   ]
  },
  {
   "cell_type": "code",
   "execution_count": null,
   "metadata": {},
   "outputs": [],
   "source": [
    "upper.hvplot.image()"
   ]
  },
  {
   "cell_type": "code",
   "execution_count": null,
   "metadata": {},
   "outputs": [],
   "source": [
    "lower.hvplot.image()"
   ]
  },
  {
   "cell_type": "markdown",
   "metadata": {},
   "source": [
    "# Calculate the mean value for each time step"
   ]
  },
  {
   "cell_type": "code",
   "execution_count": null,
   "metadata": {},
   "outputs": [],
   "source": [
    "upper.precip.mean(dim=['lat', 'lon']).plot.line();"
   ]
  },
  {
   "cell_type": "code",
   "execution_count": null,
   "metadata": {},
   "outputs": [],
   "source": [
    "lower.precip.mean(dim=['lat', 'lon']).plot.line();"
   ]
  },
  {
   "cell_type": "markdown",
   "metadata": {},
   "source": [
    "# Calculate the sum over all locations at each time step"
   ]
  },
  {
   "cell_type": "code",
   "execution_count": null,
   "metadata": {},
   "outputs": [],
   "source": [
    "lower.precip.sum(dim=['lat', 'lon']).plot.line();"
   ]
  },
  {
   "cell_type": "code",
   "execution_count": null,
   "metadata": {},
   "outputs": [],
   "source": [
    "lower.precip.sum(dim=['lat', 'lon']).plot() + upper.precip.sum(dim=['lat', 'lon']).plot();"
   ]
  },
  {
   "cell_type": "markdown",
   "metadata": {},
   "source": [
    "# Calculate the cumlative sum for each time step"
   ]
  },
  {
   "cell_type": "code",
   "execution_count": null,
   "metadata": {},
   "outputs": [],
   "source": [
    "upper.precip.sum(dim=['lat', 'lon']).cumsum().plot.line();"
   ]
  },
  {
   "cell_type": "code",
   "execution_count": null,
   "metadata": {},
   "outputs": [],
   "source": [
    "lower.precip.sum(dim=['lat', 'lon']).cumsum().plot.line();"
   ]
  }
 ],
 "metadata": {
  "kernelspec": {
   "display_name": "Python 3",
   "language": "python",
   "name": "python3"
  },
  "language_info": {
   "codemirror_mode": {
    "name": "ipython",
    "version": 3
   },
   "file_extension": ".py",
   "mimetype": "text/x-python",
   "name": "python",
   "nbconvert_exporter": "python",
   "pygments_lexer": "ipython3",
   "version": "3.7.8"
  }
 },
 "nbformat": 4,
 "nbformat_minor": 4
}
